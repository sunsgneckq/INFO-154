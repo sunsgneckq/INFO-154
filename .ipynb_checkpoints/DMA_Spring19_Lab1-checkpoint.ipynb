{
  "nbformat": 4,
  "nbformat_minor": 0,
  "metadata": {
    "colab": {
      "name": "DMA_Spring19_Lab1.ipynb",
      "version": "0.3.2",
      "provenance": [],
      "collapsed_sections": []
    },
    "kernelspec": {
      "display_name": "Python [conda root]",
      "language": "python",
      "name": "conda-root-py"
    }
  },
  "cells": [
    {
      "metadata": {
        "collapsed": true,
        "id": "72hc3_ykfbTu",
        "colab_type": "text"
      },
      "cell_type": "markdown",
      "source": [
        "# DMA Assignment 1 - Data Preprocessing\n",
        "\n",
        "Data transformations are useful for preparing a dataset for answering a particular question. Part of this process involves generating features from the dataset you find relevant to the question at hand. For this lab, we will be using a Yelp reviews dataset. Each row in the dataset depicts one review along with the features of the review (the reviewer, the review text, etc.). The goal of this lab is to convert this reviews dataset into a reviewers dataset by creating different features of each reviewer.\n",
        "\n",
        "The submission for this assignment should be done *individually*, although you are allowed to work in groups of 2.\n",
        "\n"
      ]
    },
    {
      "metadata": {
        "id": "RqiCoZUUn9Y8",
        "colab_type": "text"
      },
      "cell_type": "markdown",
      "source": [
        "# Environment Setup\n",
        "Run this cell to setup your environment."
      ]
    },
    {
      "metadata": {
        "id": "mxzKVAdioO_2",
        "colab_type": "code",
        "colab": {}
      },
      "cell_type": "code",
      "source": [
        "# Importing libraries\n",
        "import pandas as pd\n",
        "import math\n",
        "import numpy as np\n",
        "print('Libraries Imported')\n",
        "\n",
        "#DOWNLOADING DATASET\n",
        "!wget http://people.ischool.berkeley.edu/~zp/course_datasets/yelp_reviews.csv\n",
        "print('Dataset Downloaded: yelp_reviews.csv')\n",
        "df=pd.read_csv('yelp_reviews.csv')\n",
        "\n",
        "print('Setup Complete')"
      ],
      "execution_count": 0,
      "outputs": []
    },
    {
      "metadata": {
        "id": "zWnyq8b6nI3g",
        "colab_type": "text"
      },
      "cell_type": "markdown",
      "source": [
        "**Q1: What was the highest number of reviews for any one business_id?**\n",
        "- For this task, we will need to group the reviews dataset by business_id. This will aggregate data for each business, which is what we need. This can be done using [groupby](https://pandas.pydata.org/pandas-docs/stable/generated/pandas.DataFrame.groupby.html).\n",
        "    - ```yelp_businesses = yelp_dataset.groupby('business_id').size() ```\n",
        "    - The .size() counts the number of instances for each business_id, which gives us the number of reviews as each instance in this dataset is a review.\n",
        "    - The following command will sort this list, after which you can take note of the highest value: ```sorted_yelp_businesses = yelp_businesses.sort(ascending=False,inplace=False)```\n",
        "    - This approach allows you to see the data structure being used in the sort. A quicker approach to getting the max would be to use the max function: ```max(yelp_businesses)```\n",
        "<br>\n",
        "<br>"
      ]
    },
    {
      "metadata": {
        "id": "XzNYtx_XfbTw",
        "colab_type": "code",
        "colab": {}
      },
      "cell_type": "code",
      "source": [
        "# YOUR ANSWER HERE\n"
      ],
      "execution_count": 0,
      "outputs": []
    },
    {
      "metadata": {
        "id": "JizBl1PdpRfM",
        "colab_type": "text"
      },
      "cell_type": "markdown",
      "source": [
        "**Q2: What was the average number of reviews for a business_id?**"
      ]
    },
    {
      "metadata": {
        "id": "KlknHrO0nQrC",
        "colab_type": "code",
        "colab": {}
      },
      "cell_type": "code",
      "source": [
        "#\n",
        "\n"
      ],
      "execution_count": 0,
      "outputs": []
    },
    {
      "metadata": {
        "id": "t2G7HoujpakU",
        "colab_type": "text"
      },
      "cell_type": "markdown",
      "source": [
        "**Q3: What is the average number of reviews per reviewer?**"
      ]
    },
    {
      "metadata": {
        "id": "WKRYyyHqnQuO",
        "colab_type": "code",
        "colab": {}
      },
      "cell_type": "code",
      "source": [
        "#\n"
      ],
      "execution_count": 0,
      "outputs": []
    },
    {
      "metadata": {
        "id": "JeVxqN8wplTO",
        "colab_type": "text"
      },
      "cell_type": "markdown",
      "source": [
        "**Q4: What is the average number of useful votes per reviewer?**"
      ]
    },
    {
      "metadata": {
        "id": "BAyROnswnQxs",
        "colab_type": "code",
        "colab": {}
      },
      "cell_type": "code",
      "source": [
        "#\n",
        "\n",
        "  "
      ],
      "execution_count": 0,
      "outputs": []
    },
    {
      "metadata": {
        "id": "tHWfa5zjpj5s",
        "colab_type": "text"
      },
      "cell_type": "markdown",
      "source": [
        "**Q5: What is the average of the log of the number of reviews per reviewer?**"
      ]
    },
    {
      "metadata": {
        "id": "4YN-p3X1nQ1L",
        "colab_type": "code",
        "colab": {}
      },
      "cell_type": "code",
      "source": [
        "#"
      ],
      "execution_count": 0,
      "outputs": []
    },
    {
      "metadata": {
        "id": "nojIBjkgrB4D",
        "colab_type": "text"
      },
      "cell_type": "markdown",
      "source": [
        "**Q6: What is the average of the log of the number of cool votes per reviewer?**"
      ]
    },
    {
      "metadata": {
        "id": "RLOtQ-B2mXNj",
        "colab_type": "code",
        "colab": {}
      },
      "cell_type": "code",
      "source": [
        "#"
      ],
      "execution_count": 0,
      "outputs": []
    },
    {
      "metadata": {
        "id": "D86RBgXcrERi",
        "colab_type": "text"
      },
      "cell_type": "markdown",
      "source": [
        "**Q7: What is the average of the log of the number of funny votes per reviewer?**"
      ]
    },
    {
      "metadata": {
        "id": "UGjnQC4SmXTe",
        "colab_type": "code",
        "colab": {}
      },
      "cell_type": "code",
      "source": [
        "#\n",
        "\n",
        "\n"
      ],
      "execution_count": 0,
      "outputs": []
    },
    {
      "metadata": {
        "id": "1UMVPcW1rFEi",
        "colab_type": "text"
      },
      "cell_type": "markdown",
      "source": [
        "**Q8: What is the average of the log of the number of useful votes per reviewer?**"
      ]
    },
    {
      "metadata": {
        "id": "MX0tbdENmXWw",
        "colab_type": "code",
        "colab": {}
      },
      "cell_type": "code",
      "source": [
        "# "
      ],
      "execution_count": 0,
      "outputs": []
    },
    {
      "metadata": {
        "id": "fBVz_pN9rkiz",
        "colab_type": "text"
      },
      "cell_type": "markdown",
      "source": [
        "**Q9: Find the average of the percentage of total cool votes out of total votes for each reviewer.**"
      ]
    },
    {
      "metadata": {
        "id": "wrEjp_yQmXaC",
        "colab_type": "code",
        "colab": {}
      },
      "cell_type": "code",
      "source": [
        "#"
      ],
      "execution_count": 0,
      "outputs": []
    },
    {
      "metadata": {
        "id": "bEHQbW8YrlI-",
        "colab_type": "text"
      },
      "cell_type": "markdown",
      "source": [
        "**Q10: Find the average of the percentage of total funny votes out of total votes for each reviewer.**"
      ]
    },
    {
      "metadata": {
        "id": "XZCfq1kVmXdE",
        "colab_type": "code",
        "colab": {}
      },
      "cell_type": "code",
      "source": [
        "#\n",
        "\n",
        "\n",
        "\n"
      ],
      "execution_count": 0,
      "outputs": []
    },
    {
      "metadata": {
        "id": "LEDrDGt1rlvO",
        "colab_type": "text"
      },
      "cell_type": "markdown",
      "source": [
        "**Q11: Find the average of the percentage of total useful votes out of total votes for each reviewer.**"
      ]
    },
    {
      "metadata": {
        "id": "7Kh3IYkOmXf9",
        "colab_type": "code",
        "colab": {}
      },
      "cell_type": "code",
      "source": [
        "# "
      ],
      "execution_count": 0,
      "outputs": []
    },
    {
      "metadata": {
        "id": "ZkRDo2zhrmhp",
        "colab_type": "text"
      },
      "cell_type": "markdown",
      "source": [
        "**Q12: Average review text length (in non-space characters)**"
      ]
    },
    {
      "metadata": {
        "id": "KdV6YJ1tmXjY",
        "colab_type": "code",
        "colab": {}
      },
      "cell_type": "code",
      "source": [
        "#"
      ],
      "execution_count": 0,
      "outputs": []
    },
    {
      "metadata": {
        "id": "f0yRvysDr6Dm",
        "colab_type": "text"
      },
      "cell_type": "markdown",
      "source": [
        "**Q13: Year in which the reviewer wrote the most reviews. Once you have this for each reviewer, subtract the minimum possible year (2005) from each so that your final feature values are 0, 1, 2 etc.**"
      ]
    },
    {
      "metadata": {
        "id": "tr0hsljGnQ4o",
        "colab_type": "code",
        "colab": {}
      },
      "cell_type": "code",
      "source": [
        "#"
      ],
      "execution_count": 0,
      "outputs": []
    },
    {
      "metadata": {
        "id": "YDRKDfvoArUk",
        "colab_type": "text"
      },
      "cell_type": "markdown",
      "source": [
        "**Q14: Come up with a new feature. This may be derived from existing features. Give your feature the name ** *my_new_feature.* **Dsiplay head() of this new feature.**"
      ]
    },
    {
      "metadata": {
        "id": "1icFU-hmBJwY",
        "colab_type": "code",
        "colab": {}
      },
      "cell_type": "code",
      "source": [
        "#"
      ],
      "execution_count": 0,
      "outputs": []
    }
  ]
}