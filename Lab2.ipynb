{
  "nbformat": 4,
  "nbformat_minor": 0,
  "metadata": {
    "colab": {
      "name": " Lab2",
      "version": "0.3.2",
      "provenance": [],
      "collapsed_sections": []
    },
    "kernelspec": {
      "name": "python3",
      "display_name": "Python 3"
    }
  },
  "cells": [
    {
      "metadata": {
        "id": "yggG02usGXIx",
        "colab_type": "text"
      },
      "cell_type": "markdown",
      "source": [
        "## Lab 2: Clustering ##\n",
        "\n",
        "The dataset for this lab has been created from some custom features from Lab 1. The columns are named as q1, q2....etc. A custom description of the features can be found at this link: (https://drive.google.com/file/d/0BycRP8EC1WVVUmo5d3kwTWlDYlk/view). \n",
        "\n",
        "If, at any place, you wish to include a comment or a discussion of your code/results, please add a Text cell below your answer/code. A text cell can be added by clicking on '+TEXT' in the upper left corner.\n"
      ]
    },
    {
      "metadata": {
        "id": "urwMx0LSG937",
        "colab_type": "text"
      },
      "cell_type": "markdown",
      "source": [
        "#Environment Setup\n",
        "Run this cell to setup your environment."
      ]
    },
    {
      "metadata": {
        "id": "2_LDZ0VGGXIy",
        "colab_type": "code",
        "outputId": "243765c3-1a23-431a-b5f1-6e6457fcb60d",
        "colab": {
          "base_uri": "https://localhost:8080/",
          "height": 289
        }
      },
      "cell_type": "code",
      "source": [
        "import pandas as pd\n",
        "from sklearn.cluster import KMeans\n",
        "from sklearn.metrics import silhouette_score\n",
        "import numpy as np\n",
        "from sklearn.preprocessing import normalize\n",
        "\n",
        "import matplotlib\n",
        "import matplotlib.pyplot as plt\n",
        "\n",
        "%matplotlib inline\n",
        "matplotlib.style.use('ggplot')\n",
        "\n",
        "\n",
        "\n",
        "#DOWNLOADING DATASET\n",
        "!wget http://people.ischool.berkeley.edu/~zp/course_datasets/yelp_reviewers.zip\n",
        "!unzip yelp_reviewers.zip\n",
        "print('Dataset Downloaded: yelp_reviews.csv')\n",
        "df = pd.read_csv('yelp_reviewers.csv')\n",
        "print(df.shape)\n",
        "df.dropna().describe()\n",
        "\n",
        "print('....SETUP COMPLETE....')"
      ],
      "execution_count": 0,
      "outputs": [
        {
          "output_type": "stream",
          "text": [
            "--2019-02-14 08:27:03--  http://people.ischool.berkeley.edu/~zp/course_datasets/yelp_reviewers.zip\n",
            "Resolving people.ischool.berkeley.edu (people.ischool.berkeley.edu)... 128.32.78.16\n",
            "Connecting to people.ischool.berkeley.edu (people.ischool.berkeley.edu)|128.32.78.16|:80... connected.\n",
            "HTTP request sent, awaiting response... 200 OK\n",
            "Length: 12350863 (12M) [application/zip]\n",
            "Saving to: ‘yelp_reviewers.zip.7’\n",
            "\n",
            "yelp_reviewers.zip. 100%[===================>]  11.78M  1.31MB/s    in 13s     \n",
            "\n",
            "2019-02-14 08:27:16 (911 KB/s) - ‘yelp_reviewers.zip.7’ saved [12350863/12350863]\n",
            "\n",
            "Archive:  yelp_reviewers.zip\n",
            "replace yelp_reviewers.csv? [y]es, [n]o, [A]ll, [N]one, [r]ename: n\n",
            "Dataset Downloaded: yelp_reviews.csv\n",
            "(171639, 43)\n",
            "....SETUP COMPLETE....\n"
          ],
          "name": "stdout"
        }
      ]
    },
    {
      "metadata": {
        "id": "RsWzAoTdGXI1",
        "colab_type": "text"
      },
      "cell_type": "markdown",
      "source": [
        "### Question 1 ###\n",
        "\n",
        "Choose an implementation of k-means. Which one have you used? (Scikit-learn, custom, other)\n",
        "\n"
      ]
    },
    {
      "metadata": {
        "id": "6K6fADVvRfY-",
        "colab_type": "text"
      },
      "cell_type": "markdown",
      "source": [
        "### ANSWER: ### I choose Scikit-learn. Used it before a little bit\n"
      ]
    },
    {
      "metadata": {
        "id": "Fs-_D7JKGXI2",
        "colab_type": "text"
      },
      "cell_type": "markdown",
      "source": [
        "\n",
        "\n",
        "---\n",
        "\n",
        "\n",
        "### Question 2 ###\n",
        "What is the best choice of k according to the silhouette metric for clustering q4-q6 (# of cool, funny, useful votes). Only consider 2 <= k <= 8.  \n",
        "\n",
        "NOTE: For features with high variance, empty clusters can occur. There are several ways of dealing with empty clusters. A common approach is to drop empty clusters, the prefered approach for this Lab is to treat the empty cluster as a “singleton” leaving it empty with a single point placeholder.\n"
      ]
    },
    {
      "metadata": {
        "id": "sdKRAfZwy01N",
        "colab_type": "code",
        "outputId": "244fc228-e7e8-4642-86e5-f244e8ec1640",
        "colab": {
          "base_uri": "https://localhost:8080/",
          "height": 34
        }
      },
      "cell_type": "code",
      "source": [
        "# YOUR CODE HERE\n",
        "df2=df[[\"q4\",\"q5\",\"q6\"]].values\n",
        "len(df2)*0.3\n",
        "X=df2[np.random.choice(len(df2), 51492, replace=False)]\n",
        "best_k=0\n",
        "maxs=0\n",
        "for i in range(2,9):\n",
        "  kmeans = KMeans(n_clusters=i, random_state=0).fit(X)\n",
        "  score= silhouette_score(X, kmeans.labels_)\n",
        "  if score> maxs:\n",
        "    maxs=score\n",
        "    best_k=i\n",
        "best_k, maxs"
      ],
      "execution_count": 0,
      "outputs": [
        {
          "output_type": "execute_result",
          "data": {
            "text/plain": [
              "(2, 0.9982563354617981)"
            ]
          },
          "metadata": {
            "tags": []
          },
          "execution_count": 5
        }
      ]
    },
    {
      "metadata": {
        "id": "OFweRaV4GXI4",
        "colab_type": "text"
      },
      "cell_type": "markdown",
      "source": [
        "***\n",
        "\n",
        "### Question 3 ###\n",
        "Answer question 2 but using the log of the features (q7-q10)\n",
        "\n"
      ]
    },
    {
      "metadata": {
        "id": "CtR7H7QhGXI4",
        "colab_type": "code",
        "outputId": "0f1ba4c8-cee9-44bc-8e62-497441bf9def",
        "colab": {
          "base_uri": "https://localhost:8080/",
          "height": 34
        }
      },
      "cell_type": "code",
      "source": [
        "# YOUR CODE HERE\n",
        "X1=df.dropna()[[\"q7\",\"q8\",\"q9\",\"q10\"]].values\n",
        "best_k2=0\n",
        "maxs2=0\n",
        "for i in range(2,9):\n",
        "  kmeans2 = KMeans(n_clusters=i, random_state=0).fit(X1)\n",
        "  score2= silhouette_score(X1, kmeans2.labels_)\n",
        "  if score2> maxs2:\n",
        "    maxs2=score2\n",
        "    best_k2=i\n",
        "best_k2,maxs2"
      ],
      "execution_count": 0,
      "outputs": [
        {
          "output_type": "execute_result",
          "data": {
            "text/plain": [
              "(2, 0.41758974023928846)"
            ]
          },
          "metadata": {
            "tags": []
          },
          "execution_count": 6
        }
      ]
    },
    {
      "metadata": {
        "id": "D3DexLA8RGdn",
        "colab_type": "text"
      },
      "cell_type": "markdown",
      "source": [
        "### ANSWER: 2###"
      ]
    },
    {
      "metadata": {
        "id": "EiXgZ3MXGXI5",
        "colab_type": "text"
      },
      "cell_type": "markdown",
      "source": [
        "***\n",
        "\n",
        "### Question 4 ###\n",
        "Answer question 2 but using the percentage of the features (q11-q13)\n",
        "\n"
      ]
    },
    {
      "metadata": {
        "id": "GaX17xzqGXI6",
        "colab_type": "code",
        "outputId": "b27f9bf0-a1be-4aaf-d237-b3dd87eea00b",
        "colab": {
          "base_uri": "https://localhost:8080/",
          "height": 34
        }
      },
      "cell_type": "code",
      "source": [
        "# YOUR CODE HERE\n",
        " \n",
        "X2=df.dropna()[[\"q11\",\"q12\",\"q13\"]].values\n",
        "best_k3=0\n",
        "maxs3=0\n",
        "for i in range(2,9):\n",
        "  kmeans3 = KMeans(n_clusters=i, random_state=0).fit(X2)\n",
        "  score3= silhouette_score(X2, kmeans3.labels_)\n",
        "  if score3> maxs3:\n",
        "    maxs3=score3\n",
        "    best_k3=i\n",
        "best_k3,maxs3"
      ],
      "execution_count": 0,
      "outputs": [
        {
          "output_type": "execute_result",
          "data": {
            "text/plain": [
              "(8, 0.43705212819815525)"
            ]
          },
          "metadata": {
            "tags": []
          },
          "execution_count": 7
        }
      ]
    },
    {
      "metadata": {
        "id": "vbeHEkylQ-UP",
        "colab_type": "text"
      },
      "cell_type": "markdown",
      "source": [
        "### ANSWER: 8###"
      ]
    },
    {
      "metadata": {
        "id": "9u8shFb9GXI8",
        "colab_type": "text"
      },
      "cell_type": "markdown",
      "source": [
        "***\n",
        "\n",
        "### Question 5 ###\n",
        "Inspect the [best] clustering generated from question 4"
      ]
    },
    {
      "metadata": {
        "id": "4ZwS66z2GXI9",
        "colab_type": "text"
      },
      "cell_type": "markdown",
      "source": [
        "#### 5.a ####\n",
        "**Question**: List the number of data points in each cluster (eg. C1: 2,000 C2: 4,200 etc)"
      ]
    },
    {
      "metadata": {
        "id": "Um_mfn65GXI-",
        "colab_type": "code",
        "outputId": "98894c4d-ae94-4362-c3e7-887b6ff240be",
        "colab": {
          "base_uri": "https://localhost:8080/",
          "height": 153
        }
      },
      "cell_type": "code",
      "source": [
        "freq=kmeans3.labels_.tolist()\n",
        "import collections\n",
        "counter=collections.Counter(freq)\n",
        "counter\n"
      ],
      "execution_count": 0,
      "outputs": [
        {
          "output_type": "execute_result",
          "data": {
            "text/plain": [
              "Counter({0: 2449,\n",
              "         1: 1960,\n",
              "         2: 1412,\n",
              "         3: 4349,\n",
              "         4: 4933,\n",
              "         5: 2090,\n",
              "         6: 2875,\n",
              "         7: 4137})"
            ]
          },
          "metadata": {
            "tags": []
          },
          "execution_count": 8
        }
      ]
    },
    {
      "metadata": {
        "id": "bEqw5eaNGXI_",
        "colab_type": "text"
      },
      "cell_type": "markdown",
      "source": [
        "#### 5.b ####\n",
        "**Question**: Were there clusters that represented very funny but useless reviewers?  If so, print them.\n",
        "\n",
        "**Answer**:  Yes there is a cluster with #2 that represents the very funny but useless reviews"
      ]
    },
    {
      "metadata": {
        "id": "8GnM9DFlGXI_",
        "colab_type": "code",
        "outputId": "dcf2bad1-f6e3-475a-a322-a03ab3710d70",
        "colab": {
          "base_uri": "https://localhost:8080/",
          "height": 452
        }
      },
      "cell_type": "code",
      "source": [
        "# YOUR CODE HERE\n",
        "\n",
        "plt.scatter(df.dropna()[[\"q11\",\"q12\",\"q13\"]].iloc[:, 1], df.dropna()[[\"q11\",\"q12\",\"q13\"]].iloc[:, 2], c=kmeans3.labels_,cmap='viridis_r',label=kmeans3.labels_)\n",
        "plt.show()\n",
        "df2=df.dropna()[[\"q11\",\"q12\",\"q13\"]]\n",
        "df2[\"labels\"]=kmeans3.labels_\n",
        "centers=kmeans3.cluster_centers_\n",
        "print(centers)\n",
        "df2.loc[(df2['q12'] > 60) & (df2['q13']  <=10)].groupby(\"labels\").size()\n",
        "\n",
        "\n",
        "\n"
      ],
      "execution_count": 0,
      "outputs": [
        {
          "output_type": "display_data",
          "data": {
            "image/png": "[encoded data removed]",
            "text/plain": [
              "<Figure size 432x288 with 1 Axes>"
            ]
          },
          "metadata": {
            "tags": []
          }
        },
        {
          "output_type": "stream",
          "text": [
            "[[44.87164557 19.86064108 35.26808902]\n",
            " [13.46876468 11.79936192 74.73276672]\n",
            " [20.40174221 53.84484419 25.75324363]\n",
            " [26.89403634 25.28386155 47.82186063]\n",
            " [32.78900466 33.53682141 33.66774579]\n",
            " [16.21217225 37.86160287 45.92551675]\n",
            " [32.98291826 13.03431652 53.98209391]\n",
            " [18.2122445  19.93890795 61.8505122 ]]\n"
          ],
          "name": "stdout"
        },
        {
          "output_type": "execute_result",
          "data": {
            "text/plain": [
              "labels\n",
              "2    14\n",
              "dtype: int64"
            ]
          },
          "metadata": {
            "tags": []
          },
          "execution_count": 16
        }
      ]
    },
    {
      "metadata": {
        "id": "5rN_IMnkQ6cZ",
        "colab_type": "text"
      },
      "cell_type": "markdown",
      "source": [
        "### ANSWER: Yes there is a cluster with #2 that represents the very funny but useless reviews###"
      ]
    },
    {
      "metadata": {
        "id": "P-FX3pRjGXJB",
        "colab_type": "text"
      },
      "cell_type": "markdown",
      "source": [
        "#### 5.c ####\n",
        "**Question**: How many reviewers were in the cluster that represented relatively equal strength in all voting categories (assuming such a cluster exists in your clustering)?  \n",
        "\n",
        "**Answer**:4"
      ]
    },
    {
      "metadata": {
        "id": "iHdgSL8YGXJB",
        "colab_type": "code",
        "outputId": "75c10997-311a-4413-a833-ee29dfdeccb0",
        "colab": {
          "base_uri": "https://localhost:8080/",
          "height": 68
        }
      },
      "cell_type": "code",
      "source": [
        "# YOUR CODE HERE\n",
        "df2.loc[(df2['q12'] ==33.33 ) & (df2['q13']  ==33.33) & (df2['q11'] ==33.33) ].groupby(\"labels\").size()\n"
      ],
      "execution_count": 0,
      "outputs": [
        {
          "output_type": "execute_result",
          "data": {
            "text/plain": [
              "labels\n",
              "4    2956\n",
              "dtype: int64"
            ]
          },
          "metadata": {
            "tags": []
          },
          "execution_count": 10
        }
      ]
    },
    {
      "metadata": {
        "id": "ccZh7AhHQ5c2",
        "colab_type": "text"
      },
      "cell_type": "markdown",
      "source": [
        "### ANSWER: ### Cluster #4 represent equal strength in voting categories. There are 4933 in that clusters. Among the 4933 reviews, there are roughly 2956 reviews  represented relatively equal strength in all voting categories 33.33% in all funny, useful, and cool votes. "
      ]
    },
    {
      "metadata": {
        "id": "nnJxzDvHGXJC",
        "colab_type": "text"
      },
      "cell_type": "markdown",
      "source": [
        "***\n",
        "\n",
        "### Question 6 ###\n",
        "Cluster the dataset using $k = 5$ and using features q7-q13 (log and % type votes) and q14 (most active year feature) and the natural log of q15 (avg review chars)"
      ]
    },
    {
      "metadata": {
        "id": "Lxxn3KfOGXJC",
        "colab_type": "code",
        "colab": {}
      },
      "cell_type": "code",
      "source": [
        "# YOUR CODE HERE\n",
        " \n",
        "X2=df.dropna()[[\"q7\",\"q8\",\"q9\",\"q10\",\"q11\",\"q12\",\"q13\",\"q14\",\"q15\"]]\n",
        "X2[\"q15\"]=np.log(X2[\"q15\"])\n",
        "kmeans5 = KMeans(n_clusters=5, random_state=0).fit(X2)\n",
        "score4= silhouette_score(X2, kmeans5.labels_)\n"
      ],
      "execution_count": 0,
      "outputs": []
    },
    {
      "metadata": {
        "id": "4Z8XlbY-Q4Jn",
        "colab_type": "text"
      },
      "cell_type": "markdown",
      "source": [
        "### ANSWER: ###"
      ]
    },
    {
      "metadata": {
        "id": "-RuNWqDlGXJD",
        "colab_type": "text"
      },
      "cell_type": "markdown",
      "source": [
        "#### 6.a ####\n",
        "**Question**: What is the silhouette metric for this clustering?   \n",
        "You may use the max, as you did in question 2. For a more in-depth understanding of cluster analysis with silhouette, look [here](http://scikit-learn.org/stable/auto_examples/cluster/plot_kmeans_silhouette_analysis.html)"
      ]
    },
    {
      "metadata": {
        "id": "vY_h7wuoGXJE",
        "colab_type": "code",
        "outputId": "f3b5d9bc-75aa-490b-c6f5-785f9c3eec64",
        "colab": {
          "base_uri": "https://localhost:8080/",
          "height": 34
        }
      },
      "cell_type": "code",
      "source": [
        "# YOUR CODE HERE\n",
        "score4= silhouette_score(X2, kmeans5.labels_)\n",
        "score4"
      ],
      "execution_count": 0,
      "outputs": [
        {
          "output_type": "execute_result",
          "data": {
            "text/plain": [
              "0.36637543664870653"
            ]
          },
          "metadata": {
            "tags": []
          },
          "execution_count": 12
        }
      ]
    },
    {
      "metadata": {
        "id": "9DCHVCvVQ3Ku",
        "colab_type": "text"
      },
      "cell_type": "markdown",
      "source": [
        "### ANSWER:  0.36637543664870653###"
      ]
    },
    {
      "metadata": {
        "id": "QvlvfvbVGXJE",
        "colab_type": "text"
      },
      "cell_type": "markdown",
      "source": [
        "#### 6.b ####\n",
        "**Question**: What was the average “number of reviews per reviewer (q3)” among the points in each of the clusters (eg. C1: 1.4 C2: 4.2 C3: 3.4 etc)"
      ]
    },
    {
      "metadata": {
        "id": "sSNQRXwoGXJF",
        "colab_type": "code",
        "outputId": "95d39005-46c1-4e36-8e21-29c5797393dc",
        "colab": {
          "base_uri": "https://localhost:8080/",
          "height": 235
        }
      },
      "cell_type": "code",
      "source": [
        "# YOUR CODE HERE\n",
        "df6=df.dropna()[[\"q3\"]]\n",
        "df6[\"labels\"]=kmeans5.labels_\n",
        "df6.groupby(\"labels\").mean()"
      ],
      "execution_count": 0,
      "outputs": [
        {
          "output_type": "execute_result",
          "data": {
            "text/html": [
              "<div>\n",
              "<style scoped>\n",
              "    .dataframe tbody tr th:only-of-type {\n",
              "        vertical-align: middle;\n",
              "    }\n",
              "\n",
              "    .dataframe tbody tr th {\n",
              "        vertical-align: top;\n",
              "    }\n",
              "\n",
              "    .dataframe thead th {\n",
              "        text-align: right;\n",
              "    }\n",
              "</style>\n",
              "<table border=\"1\" class=\"dataframe\">\n",
              "  <thead>\n",
              "    <tr style=\"text-align: right;\">\n",
              "      <th></th>\n",
              "      <th>q3</th>\n",
              "    </tr>\n",
              "    <tr>\n",
              "      <th>labels</th>\n",
              "      <th></th>\n",
              "    </tr>\n",
              "  </thead>\n",
              "  <tbody>\n",
              "    <tr>\n",
              "      <th>0</th>\n",
              "      <td>6.743173</td>\n",
              "    </tr>\n",
              "    <tr>\n",
              "      <th>1</th>\n",
              "      <td>8.541341</td>\n",
              "    </tr>\n",
              "    <tr>\n",
              "      <th>2</th>\n",
              "      <td>4.986265</td>\n",
              "    </tr>\n",
              "    <tr>\n",
              "      <th>3</th>\n",
              "      <td>4.903124</td>\n",
              "    </tr>\n",
              "    <tr>\n",
              "      <th>4</th>\n",
              "      <td>8.336215</td>\n",
              "    </tr>\n",
              "  </tbody>\n",
              "</table>\n",
              "</div>"
            ],
            "text/plain": [
              "              q3\n",
              "labels          \n",
              "0       6.743173\n",
              "1       8.541341\n",
              "2       4.986265\n",
              "3       4.903124\n",
              "4       8.336215"
            ]
          },
          "metadata": {
            "tags": []
          },
          "execution_count": 31
        }
      ]
    },
    {
      "metadata": {
        "id": "GzC1KnZsQ2IX",
        "colab_type": "text"
      },
      "cell_type": "markdown",
      "source": [
        "### ANSWER: {C0: 6.743173, C1: 8.541341, C2: 4.986265, C3: 4.903124, C4:8.336215}###\n",
        "\n"
      ]
    },
    {
      "metadata": {
        "id": "52Pmqye4GXJF",
        "colab_type": "text"
      },
      "cell_type": "markdown",
      "source": [
        "***\n",
        "\n",
        "### Question 7 ###\n",
        "Cluster the dataset using the features described in question 6 + every group’s question 16 features (you may drop features with high incidents of -Inf / blank / or NaN values). It is suggested that you perform some form of normalization on these question 16 features so as not to over bias the clustering towards the larger magnitude features."
      ]
    },
    {
      "metadata": {
        "id": "yTj3QzIIGXJG",
        "colab_type": "text"
      },
      "cell_type": "markdown",
      "source": [
        "#### Data Cleansing and Normalization ####\n",
        "Check how many null values there are in each column."
      ]
    },
    {
      "metadata": {
        "id": "yf34gbjTGXJG",
        "colab_type": "code",
        "outputId": "b890862f-a25f-4bb1-ac6f-9797f62f9327",
        "colab": {
          "base_uri": "https://localhost:8080/",
          "height": 697
        }
      },
      "cell_type": "code",
      "source": [
        "# YOUR CODE HERE\n",
        "df_clean=df.drop(['q3', 'q4', 'q5', 'q6'], axis=1, inplace=False)\n",
        "df_clean[\"q15\"]=np.log(df_clean[\"q15\"])\n",
        "df_clean.isnull().sum()"
      ],
      "execution_count": 0,
      "outputs": [
        {
          "output_type": "execute_result",
          "data": {
            "text/plain": [
              "user_id         0\n",
              "q7              0\n",
              "q8         117853\n",
              "q9         122162\n",
              "q10         81153\n",
              "q11         71282\n",
              "q12         71282\n",
              "q13         71282\n",
              "q14             0\n",
              "q15             0\n",
              "q16a            0\n",
              "q16b            0\n",
              "q16c            0\n",
              "q16d            0\n",
              "q16e            0\n",
              "q16f            0\n",
              "q16g            0\n",
              "q16h            0\n",
              "q16i            0\n",
              "q16j            0\n",
              "q16k            0\n",
              "q16l            0\n",
              "q16m            0\n",
              "q16n            0\n",
              "q16o            0\n",
              "q16p            0\n",
              "q16q            0\n",
              "q16r            0\n",
              "q16s            0\n",
              "q16t            0\n",
              "q16u            0\n",
              "q16v            0\n",
              "q16w            0\n",
              "q16x            0\n",
              "q16y            0\n",
              "q16z            0\n",
              "q16aa           0\n",
              "q16ab       47594\n",
              "q16ac           0\n",
              "dtype: int64"
            ]
          },
          "metadata": {
            "tags": []
          },
          "execution_count": 32
        }
      ]
    },
    {
      "metadata": {
        "id": "AcS-JavoGXJG",
        "colab_type": "text"
      },
      "cell_type": "markdown",
      "source": [
        "It looks like q8 - q13 and q16ab have a lot of null values, especially q8 and q9. Let's see what the impact is of removing some of these columnsbefore removing any columns"
      ]
    },
    {
      "metadata": {
        "id": "2MkrIvB-GXJG",
        "colab_type": "code",
        "outputId": "84926d9a-3a21-4e4d-a923-d57d7efe055a",
        "colab": {
          "base_uri": "https://localhost:8080/",
          "height": 663
        }
      },
      "cell_type": "code",
      "source": [
        "# YOUR CODE HERE\n",
        "df_clean=df_clean.drop(['q8', 'q9'], axis=1, inplace=False)\n",
        "df_clean.isnull().sum()\n"
      ],
      "execution_count": 0,
      "outputs": [
        {
          "output_type": "execute_result",
          "data": {
            "text/plain": [
              "user_id        0\n",
              "q7             0\n",
              "q10        81153\n",
              "q11        71282\n",
              "q12        71282\n",
              "q13        71282\n",
              "q14            0\n",
              "q15            0\n",
              "q16a           0\n",
              "q16b           0\n",
              "q16c           0\n",
              "q16d           0\n",
              "q16e           0\n",
              "q16f           0\n",
              "q16g           0\n",
              "q16h           0\n",
              "q16i           0\n",
              "q16j           0\n",
              "q16k           0\n",
              "q16l           0\n",
              "q16m           0\n",
              "q16n           0\n",
              "q16o           0\n",
              "q16p           0\n",
              "q16q           0\n",
              "q16r           0\n",
              "q16s           0\n",
              "q16t           0\n",
              "q16u           0\n",
              "q16v           0\n",
              "q16w           0\n",
              "q16x           0\n",
              "q16y           0\n",
              "q16z           0\n",
              "q16aa          0\n",
              "q16ab      47594\n",
              "q16ac          0\n",
              "dtype: int64"
            ]
          },
          "metadata": {
            "tags": []
          },
          "execution_count": 33
        }
      ]
    },
    {
      "metadata": {
        "id": "G-RfySa5GXJH",
        "colab_type": "text"
      },
      "cell_type": "markdown",
      "source": [
        "By removing 2 features, we double the number of rows remaining. That's pretty good.  \n",
        "Preprocess categorical variables to dummy values."
      ]
    },
    {
      "metadata": {
        "id": "TNMEwwghGXJH",
        "colab_type": "code",
        "outputId": "a2dd1f90-4928-4e61-8720-09be844e1a62",
        "colab": {
          "base_uri": "https://localhost:8080/",
          "height": 270
        }
      },
      "cell_type": "code",
      "source": [
        "#YOUR CODE HERE\n",
        "df_clean[\"q16t\"]=pd.get_dummies(df_clean[[\"q16t\"]]).iloc[:,:1]\n",
        "df_clean[\"q16s\"]=pd.get_dummies(df_clean[[\"q16s\"]]).iloc[:,:1]\n",
        "df_clean=df_clean.rename(index=str, columns={\"q16t\": \"q16t_no\", \"q16s\": \"q16s_experienced\"})\n",
        "df_clean.head()"
      ],
      "execution_count": 0,
      "outputs": [
        {
          "output_type": "execute_result",
          "data": {
            "text/html": [
              "<div>\n",
              "<style scoped>\n",
              "    .dataframe tbody tr th:only-of-type {\n",
              "        vertical-align: middle;\n",
              "    }\n",
              "\n",
              "    .dataframe tbody tr th {\n",
              "        vertical-align: top;\n",
              "    }\n",
              "\n",
              "    .dataframe thead th {\n",
              "        text-align: right;\n",
              "    }\n",
              "</style>\n",
              "<table border=\"1\" class=\"dataframe\">\n",
              "  <thead>\n",
              "    <tr style=\"text-align: right;\">\n",
              "      <th></th>\n",
              "      <th>user_id</th>\n",
              "      <th>q7</th>\n",
              "      <th>q10</th>\n",
              "      <th>q11</th>\n",
              "      <th>q12</th>\n",
              "      <th>q13</th>\n",
              "      <th>q14</th>\n",
              "      <th>q15</th>\n",
              "      <th>q16a</th>\n",
              "      <th>q16b</th>\n",
              "      <th>...</th>\n",
              "      <th>q16t_no</th>\n",
              "      <th>q16u</th>\n",
              "      <th>q16v</th>\n",
              "      <th>q16w</th>\n",
              "      <th>q16x</th>\n",
              "      <th>q16y</th>\n",
              "      <th>q16z</th>\n",
              "      <th>q16aa</th>\n",
              "      <th>q16ab</th>\n",
              "      <th>q16ac</th>\n",
              "    </tr>\n",
              "  </thead>\n",
              "  <tbody>\n",
              "    <tr>\n",
              "      <th>0</th>\n",
              "      <td>--1Y03CEKR3WDbBjYnsW7A</td>\n",
              "      <td>0.00</td>\n",
              "      <td>NaN</td>\n",
              "      <td>NaN</td>\n",
              "      <td>NaN</td>\n",
              "      <td>NaN</td>\n",
              "      <td>6</td>\n",
              "      <td>7.080868</td>\n",
              "      <td>0</td>\n",
              "      <td>0.000000</td>\n",
              "      <td>...</td>\n",
              "      <td>1</td>\n",
              "      <td>4.00</td>\n",
              "      <td>14</td>\n",
              "      <td>5</td>\n",
              "      <td>0.000000</td>\n",
              "      <td>213.000000</td>\n",
              "      <td>0</td>\n",
              "      <td>0</td>\n",
              "      <td>0.000000</td>\n",
              "      <td>5.000000</td>\n",
              "    </tr>\n",
              "    <tr>\n",
              "      <th>1</th>\n",
              "      <td>--2QZsyXGz1OhiD4-0FQLQ</td>\n",
              "      <td>1.10</td>\n",
              "      <td>0.0</td>\n",
              "      <td>0.0</td>\n",
              "      <td>0.0</td>\n",
              "      <td>100.0</td>\n",
              "      <td>9</td>\n",
              "      <td>5.030438</td>\n",
              "      <td>0</td>\n",
              "      <td>0.577350</td>\n",
              "      <td>...</td>\n",
              "      <td>1</td>\n",
              "      <td>1.00</td>\n",
              "      <td>19</td>\n",
              "      <td>14</td>\n",
              "      <td>0.000000</td>\n",
              "      <td>21.833333</td>\n",
              "      <td>1</td>\n",
              "      <td>0</td>\n",
              "      <td>0.333333</td>\n",
              "      <td>4.666667</td>\n",
              "    </tr>\n",
              "    <tr>\n",
              "      <th>2</th>\n",
              "      <td>--82_AVgRBsLw6Dhy8sEnA</td>\n",
              "      <td>0.00</td>\n",
              "      <td>NaN</td>\n",
              "      <td>NaN</td>\n",
              "      <td>NaN</td>\n",
              "      <td>NaN</td>\n",
              "      <td>3</td>\n",
              "      <td>6.785588</td>\n",
              "      <td>0</td>\n",
              "      <td>0.000000</td>\n",
              "      <td>...</td>\n",
              "      <td>1</td>\n",
              "      <td>3.00</td>\n",
              "      <td>31</td>\n",
              "      <td>4</td>\n",
              "      <td>0.002275</td>\n",
              "      <td>165.000000</td>\n",
              "      <td>0</td>\n",
              "      <td>0</td>\n",
              "      <td>0.000000</td>\n",
              "      <td>4.000000</td>\n",
              "    </tr>\n",
              "    <tr>\n",
              "      <th>3</th>\n",
              "      <td>--8A9o_NeGyt_3kzlXtSdg</td>\n",
              "      <td>1.10</td>\n",
              "      <td>0.0</td>\n",
              "      <td>0.0</td>\n",
              "      <td>0.0</td>\n",
              "      <td>100.0</td>\n",
              "      <td>10</td>\n",
              "      <td>6.219934</td>\n",
              "      <td>1</td>\n",
              "      <td>2.309401</td>\n",
              "      <td>...</td>\n",
              "      <td>1</td>\n",
              "      <td>0.00</td>\n",
              "      <td>8</td>\n",
              "      <td>11</td>\n",
              "      <td>0.002242</td>\n",
              "      <td>61.500000</td>\n",
              "      <td>0</td>\n",
              "      <td>0</td>\n",
              "      <td>0.333333</td>\n",
              "      <td>3.666667</td>\n",
              "    </tr>\n",
              "    <tr>\n",
              "      <th>4</th>\n",
              "      <td>--8WbseBk1NjfPiZWjQ-XQ</td>\n",
              "      <td>1.39</td>\n",
              "      <td>NaN</td>\n",
              "      <td>NaN</td>\n",
              "      <td>NaN</td>\n",
              "      <td>NaN</td>\n",
              "      <td>11</td>\n",
              "      <td>7.298107</td>\n",
              "      <td>0</td>\n",
              "      <td>2.061553</td>\n",
              "      <td>...</td>\n",
              "      <td>1</td>\n",
              "      <td>0.25</td>\n",
              "      <td>28</td>\n",
              "      <td>11</td>\n",
              "      <td>0.000444</td>\n",
              "      <td>287.500000</td>\n",
              "      <td>0</td>\n",
              "      <td>0</td>\n",
              "      <td>0.000000</td>\n",
              "      <td>2.750000</td>\n",
              "    </tr>\n",
              "  </tbody>\n",
              "</table>\n",
              "<p>5 rows × 37 columns</p>\n",
              "</div>"
            ],
            "text/plain": [
              "                  user_id    q7  q10  q11  q12    q13  q14       q15  q16a  \\\n",
              "0  --1Y03CEKR3WDbBjYnsW7A  0.00  NaN  NaN  NaN    NaN    6  7.080868     0   \n",
              "1  --2QZsyXGz1OhiD4-0FQLQ  1.10  0.0  0.0  0.0  100.0    9  5.030438     0   \n",
              "2  --82_AVgRBsLw6Dhy8sEnA  0.00  NaN  NaN  NaN    NaN    3  6.785588     0   \n",
              "3  --8A9o_NeGyt_3kzlXtSdg  1.10  0.0  0.0  0.0  100.0   10  6.219934     1   \n",
              "4  --8WbseBk1NjfPiZWjQ-XQ  1.39  NaN  NaN  NaN    NaN   11  7.298107     0   \n",
              "\n",
              "       q16b    ...     q16t_no  q16u  q16v  q16w      q16x        q16y  q16z  \\\n",
              "0  0.000000    ...           1  4.00    14     5  0.000000  213.000000     0   \n",
              "1  0.577350    ...           1  1.00    19    14  0.000000   21.833333     1   \n",
              "2  0.000000    ...           1  3.00    31     4  0.002275  165.000000     0   \n",
              "3  2.309401    ...           1  0.00     8    11  0.002242   61.500000     0   \n",
              "4  2.061553    ...           1  0.25    28    11  0.000444  287.500000     0   \n",
              "\n",
              "   q16aa     q16ab     q16ac  \n",
              "0      0  0.000000  5.000000  \n",
              "1      0  0.333333  4.666667  \n",
              "2      0  0.000000  4.000000  \n",
              "3      0  0.333333  3.666667  \n",
              "4      0  0.000000  2.750000  \n",
              "\n",
              "[5 rows x 37 columns]"
            ]
          },
          "metadata": {
            "tags": []
          },
          "execution_count": 34
        }
      ]
    },
    {
      "metadata": {
        "id": "8fY8h-WHGXJI",
        "colab_type": "text"
      },
      "cell_type": "markdown",
      "source": [
        "Now normalize the remaining features."
      ]
    },
    {
      "metadata": {
        "id": "MwpkQG5BGXJI",
        "colab_type": "code",
        "outputId": "eb120943-2733-4450-b162-18a9128d2e5d",
        "colab": {
          "base_uri": "https://localhost:8080/",
          "height": 270
        }
      },
      "cell_type": "code",
      "source": [
        "from sklearn import preprocessing\n",
        "# YOUR CODE HERE\n",
        "for i in df_clean.columns[1:-1]:  \n",
        "  if i == \"q16t_no\" or i == \"q16s_experienced\":\n",
        "    continue \n",
        "  df_clean[i] = preprocessing.scale(df_clean[i].astype('float64'))\n",
        "df_clean.head()"
      ],
      "execution_count": 0,
      "outputs": [
        {
          "output_type": "execute_result",
          "data": {
            "text/html": [
              "<div>\n",
              "<style scoped>\n",
              "    .dataframe tbody tr th:only-of-type {\n",
              "        vertical-align: middle;\n",
              "    }\n",
              "\n",
              "    .dataframe tbody tr th {\n",
              "        vertical-align: top;\n",
              "    }\n",
              "\n",
              "    .dataframe thead th {\n",
              "        text-align: right;\n",
              "    }\n",
              "</style>\n",
              "<table border=\"1\" class=\"dataframe\">\n",
              "  <thead>\n",
              "    <tr style=\"text-align: right;\">\n",
              "      <th></th>\n",
              "      <th>user_id</th>\n",
              "      <th>q7</th>\n",
              "      <th>q10</th>\n",
              "      <th>q11</th>\n",
              "      <th>q12</th>\n",
              "      <th>q13</th>\n",
              "      <th>q14</th>\n",
              "      <th>q15</th>\n",
              "      <th>q16a</th>\n",
              "      <th>q16b</th>\n",
              "      <th>...</th>\n",
              "      <th>q16t_no</th>\n",
              "      <th>q16u</th>\n",
              "      <th>q16v</th>\n",
              "      <th>q16w</th>\n",
              "      <th>q16x</th>\n",
              "      <th>q16y</th>\n",
              "      <th>q16z</th>\n",
              "      <th>q16aa</th>\n",
              "      <th>q16ab</th>\n",
              "      <th>q16ac</th>\n",
              "    </tr>\n",
              "  </thead>\n",
              "  <tbody>\n",
              "    <tr>\n",
              "      <th>0</th>\n",
              "      <td>--1Y03CEKR3WDbBjYnsW7A</td>\n",
              "      <td>-0.953411</td>\n",
              "      <td>NaN</td>\n",
              "      <td>NaN</td>\n",
              "      <td>NaN</td>\n",
              "      <td>NaN</td>\n",
              "      <td>-1.181783</td>\n",
              "      <td>1.253492</td>\n",
              "      <td>-0.512560</td>\n",
              "      <td>-0.779110</td>\n",
              "      <td>...</td>\n",
              "      <td>1</td>\n",
              "      <td>5.677804</td>\n",
              "      <td>-0.633071</td>\n",
              "      <td>-0.424753</td>\n",
              "      <td>-0.496789</td>\n",
              "      <td>1.851027</td>\n",
              "      <td>-0.337182</td>\n",
              "      <td>-0.202415</td>\n",
              "      <td>-0.398114</td>\n",
              "      <td>5.000000</td>\n",
              "    </tr>\n",
              "    <tr>\n",
              "      <th>1</th>\n",
              "      <td>--2QZsyXGz1OhiD4-0FQLQ</td>\n",
              "      <td>0.412088</td>\n",
              "      <td>-0.970154</td>\n",
              "      <td>-0.804632</td>\n",
              "      <td>-0.708244</td>\n",
              "      <td>1.171629</td>\n",
              "      <td>0.217967</td>\n",
              "      <td>-1.315264</td>\n",
              "      <td>-0.512560</td>\n",
              "      <td>-0.066353</td>\n",
              "      <td>...</td>\n",
              "      <td>1</td>\n",
              "      <td>0.877610</td>\n",
              "      <td>-0.288606</td>\n",
              "      <td>0.131740</td>\n",
              "      <td>-0.496789</td>\n",
              "      <td>-0.829235</td>\n",
              "      <td>0.861226</td>\n",
              "      <td>-0.202415</td>\n",
              "      <td>-0.280242</td>\n",
              "      <td>4.666667</td>\n",
              "    </tr>\n",
              "    <tr>\n",
              "      <th>2</th>\n",
              "      <td>--82_AVgRBsLw6Dhy8sEnA</td>\n",
              "      <td>-0.953411</td>\n",
              "      <td>NaN</td>\n",
              "      <td>NaN</td>\n",
              "      <td>NaN</td>\n",
              "      <td>NaN</td>\n",
              "      <td>-2.581532</td>\n",
              "      <td>0.883568</td>\n",
              "      <td>-0.512560</td>\n",
              "      <td>-0.779110</td>\n",
              "      <td>...</td>\n",
              "      <td>1</td>\n",
              "      <td>4.077739</td>\n",
              "      <td>0.538109</td>\n",
              "      <td>-0.486585</td>\n",
              "      <td>-0.237286</td>\n",
              "      <td>1.178040</td>\n",
              "      <td>-0.337182</td>\n",
              "      <td>-0.202415</td>\n",
              "      <td>-0.398114</td>\n",
              "      <td>4.000000</td>\n",
              "    </tr>\n",
              "    <tr>\n",
              "      <th>3</th>\n",
              "      <td>--8A9o_NeGyt_3kzlXtSdg</td>\n",
              "      <td>0.412088</td>\n",
              "      <td>-0.970154</td>\n",
              "      <td>-0.804632</td>\n",
              "      <td>-0.708244</td>\n",
              "      <td>1.171629</td>\n",
              "      <td>0.684550</td>\n",
              "      <td>0.174923</td>\n",
              "      <td>0.273854</td>\n",
              "      <td>2.071920</td>\n",
              "      <td>...</td>\n",
              "      <td>1</td>\n",
              "      <td>-0.722454</td>\n",
              "      <td>-1.046428</td>\n",
              "      <td>-0.053758</td>\n",
              "      <td>-0.241089</td>\n",
              "      <td>-0.273086</td>\n",
              "      <td>-0.337182</td>\n",
              "      <td>-0.202415</td>\n",
              "      <td>-0.280242</td>\n",
              "      <td>3.666667</td>\n",
              "    </tr>\n",
              "    <tr>\n",
              "      <th>4</th>\n",
              "      <td>--8WbseBk1NjfPiZWjQ-XQ</td>\n",
              "      <td>0.772083</td>\n",
              "      <td>NaN</td>\n",
              "      <td>NaN</td>\n",
              "      <td>NaN</td>\n",
              "      <td>NaN</td>\n",
              "      <td>1.151133</td>\n",
              "      <td>1.525646</td>\n",
              "      <td>-0.512560</td>\n",
              "      <td>1.765943</td>\n",
              "      <td>...</td>\n",
              "      <td>1</td>\n",
              "      <td>-0.322438</td>\n",
              "      <td>0.331431</td>\n",
              "      <td>-0.053758</td>\n",
              "      <td>-0.446100</td>\n",
              "      <td>2.895557</td>\n",
              "      <td>-0.337182</td>\n",
              "      <td>-0.202415</td>\n",
              "      <td>-0.398114</td>\n",
              "      <td>2.750000</td>\n",
              "    </tr>\n",
              "  </tbody>\n",
              "</table>\n",
              "<p>5 rows × 37 columns</p>\n",
              "</div>"
            ],
            "text/plain": [
              "                  user_id        q7       q10       q11       q12       q13  \\\n",
              "0  --1Y03CEKR3WDbBjYnsW7A -0.953411       NaN       NaN       NaN       NaN   \n",
              "1  --2QZsyXGz1OhiD4-0FQLQ  0.412088 -0.970154 -0.804632 -0.708244  1.171629   \n",
              "2  --82_AVgRBsLw6Dhy8sEnA -0.953411       NaN       NaN       NaN       NaN   \n",
              "3  --8A9o_NeGyt_3kzlXtSdg  0.412088 -0.970154 -0.804632 -0.708244  1.171629   \n",
              "4  --8WbseBk1NjfPiZWjQ-XQ  0.772083       NaN       NaN       NaN       NaN   \n",
              "\n",
              "        q14       q15      q16a      q16b    ...     q16t_no      q16u  \\\n",
              "0 -1.181783  1.253492 -0.512560 -0.779110    ...           1  5.677804   \n",
              "1  0.217967 -1.315264 -0.512560 -0.066353    ...           1  0.877610   \n",
              "2 -2.581532  0.883568 -0.512560 -0.779110    ...           1  4.077739   \n",
              "3  0.684550  0.174923  0.273854  2.071920    ...           1 -0.722454   \n",
              "4  1.151133  1.525646 -0.512560  1.765943    ...           1 -0.322438   \n",
              "\n",
              "       q16v      q16w      q16x      q16y      q16z     q16aa     q16ab  \\\n",
              "0 -0.633071 -0.424753 -0.496789  1.851027 -0.337182 -0.202415 -0.398114   \n",
              "1 -0.288606  0.131740 -0.496789 -0.829235  0.861226 -0.202415 -0.280242   \n",
              "2  0.538109 -0.486585 -0.237286  1.178040 -0.337182 -0.202415 -0.398114   \n",
              "3 -1.046428 -0.053758 -0.241089 -0.273086 -0.337182 -0.202415 -0.280242   \n",
              "4  0.331431 -0.053758 -0.446100  2.895557 -0.337182 -0.202415 -0.398114   \n",
              "\n",
              "      q16ac  \n",
              "0  5.000000  \n",
              "1  4.666667  \n",
              "2  4.000000  \n",
              "3  3.666667  \n",
              "4  2.750000  \n",
              "\n",
              "[5 rows x 37 columns]"
            ]
          },
          "metadata": {
            "tags": []
          },
          "execution_count": 37
        }
      ]
    },
    {
      "metadata": {
        "id": "2SibN2MAGXJJ",
        "colab_type": "text"
      },
      "cell_type": "markdown",
      "source": [
        "#### 7.a ####\n",
        "**Question**: Using the silhouette metric, what was the best k?  \n",
        "\n",
        "**Answer**:  "
      ]
    },
    {
      "metadata": {
        "id": "Aqfl5LpMGXJJ",
        "colab_type": "code",
        "outputId": "ea3514ea-65b5-4728-ae56-5804fa7cda08",
        "colab": {
          "base_uri": "https://localhost:8080/",
          "height": 34
        }
      },
      "cell_type": "code",
      "source": [
        "# YOUR CODE HERE\n",
        "Y=df_clean.copy().dropna().iloc[:,1:]\n",
        "Y=Y.reset_index().drop(\"index\",axis=1)\n",
        "Ydata=Y.values\n",
        "Y2=Ydata[np.random.choice(len(Y), 25000, replace=False)]\n",
        "\n",
        "best_k7=0\n",
        "maxs7=0\n",
        "for i in range(7,10):\n",
        "  kmeans7 = KMeans(n_clusters=i, random_state=0).fit(Y2)\n",
        "  score7= silhouette_score(Y2, kmeans7.labels_)\n",
        "  if score7> maxs7:\n",
        "    maxs7=score7\n",
        "    best_k7=i\n",
        "best_k7,maxs7"
      ],
      "execution_count": 0,
      "outputs": [
        {
          "output_type": "execute_result",
          "data": {
            "text/plain": [
              "(9, 0.12475016339661221)"
            ]
          },
          "metadata": {
            "tags": []
          },
          "execution_count": 38
        }
      ]
    },
    {
      "metadata": {
        "id": "5ywhhz4HQzBc",
        "colab_type": "text"
      },
      "cell_type": "markdown",
      "source": [
        "### ANSWER:  9###"
      ]
    },
    {
      "metadata": {
        "id": "iK3SxQbfGXJL",
        "colab_type": "text"
      },
      "cell_type": "markdown",
      "source": [
        "#### 7.b ####\n",
        "**Question**: Using the the sum of within cluster variance metric with the elbow method what was the best k?  \n",
        "**Answer**:  "
      ]
    },
    {
      "metadata": {
        "id": "WhgK6Z43GXJL",
        "colab_type": "code",
        "outputId": "de09a0d6-6169-4d7d-ae7e-3e7b2ace6b82",
        "colab": {
          "base_uri": "https://localhost:8080/",
          "height": 281
        }
      },
      "cell_type": "code",
      "source": [
        "# YOUR CODE HERE\n",
        "sse={}\n",
        "for i in range(6,15):\n",
        "  kmeans7 = KMeans(n_clusters=i, random_state=0).fit(Y2)\n",
        "  sse[i] = kmeans7.inertia_\n",
        "\n",
        "plt.plot(list(sse.keys()), list(sse.values()))\n",
        "plt.xlabel(\"Number of cluster\")\n",
        "plt.ylabel(\"SSE\")\n",
        "plt.show()"
      ],
      "execution_count": 0,
      "outputs": [
        {
          "output_type": "display_data",
          "data": {
            "image/png": "[encoded data removed]",
            "text/plain": [
              "<Figure size 432x288 with 1 Axes>"
            ]
          },
          "metadata": {
            "tags": []
          }
        }
      ]
    },
    {
      "metadata": {
        "id": "IW4vauzUQxt0",
        "colab_type": "text"
      },
      "cell_type": "markdown",
      "source": [
        "### ANSWER: The best K is 9###"
      ]
    },
    {
      "metadata": {
        "id": "fmx5E432GXJO",
        "colab_type": "text"
      },
      "cell_type": "markdown",
      "source": [
        "### Question 8 ###\n",
        "For this question please come up with your own question about this dataset and using a clustering technique as part of your method of answering it. Describe in short the question, and how clustering can answer that question.\n"
      ]
    },
    {
      "metadata": {
        "id": "z1WUX_VmQgv9",
        "colab_type": "text"
      },
      "cell_type": "markdown",
      "source": [
        "### ANSWER:  ###\n",
        "Question: Were there clusters that represent high excitement score and high percentage of funny votes among features between all the votes?\n",
        "Answer: We can use k-means algorism of features q11-13 and q16h excitiment score to find the silhouette metric to determine the best K for the clusters. Through plotting the centroid, we can see if there's clusters that represent high excitement score and high percentage of funny votes.  \n"
      ]
    },
    {
      "metadata": {
        "id": "dTCAjTnTGXJQ",
        "colab_type": "text"
      },
      "cell_type": "markdown",
      "source": [
        "## Bonus question (+20%) - Reviewer overlap:\n",
        "Create a dataset with f reviewers as the rows and business_ids as the columns (there are a lot) where the feature value is is ‘1’ if the reviewer has written a review for that business and ‘0’ if not. Use the methods described in this assignment to answer the question of how much overlap of businesses reviewed exists among reviewers in this dataset. Print head() of this newly created dataset."
      ]
    },
    {
      "metadata": {
        "id": "PceEPMDWGXJR",
        "colab_type": "code",
        "outputId": "7f6ab96f-c2d6-4376-a618-d42ffab51733",
        "colab": {
          "base_uri": "https://localhost:8080/",
          "height": 595
        }
      },
      "cell_type": "code",
      "source": [
        "# YOUR CODE HERE\n",
        "#DOWNLOADING DATASET\n",
        "!wget http://people.ischool.berkeley.edu/~zp/course_datasets/yelp_reviews.csv\n",
        "#!unzip yelp_reviews.zip\n",
        "print('Dataset Downloaded: yelp_reviews.csv')\n",
        "review=pd.read_csv('yelp_reviews.csv')\n",
        "print(df.head())"
      ],
      "execution_count": 0,
      "outputs": [
        {
          "output_type": "stream",
          "text": [
            "--2019-02-14 08:27:33--  http://people.ischool.berkeley.edu/~zp/course_datasets/yelp_reviews.csv\n",
            "Resolving people.ischool.berkeley.edu (people.ischool.berkeley.edu)... 128.32.78.16\n",
            "Connecting to people.ischool.berkeley.edu (people.ischool.berkeley.edu)|128.32.78.16|:80... connected.\n",
            "HTTP request sent, awaiting response... 200 OK\n",
            "Length: 376638166 (359M) [text/csv]\n",
            "Saving to: ‘yelp_reviews.csv.2’\n",
            "\n",
            "yelp_reviews.csv.2  100%[===================>] 359.19M  1001KB/s    in 2m 1s   \n",
            "\n",
            "2019-02-14 08:29:34 (2.98 MB/s) - ‘yelp_reviews.csv.2’ saved [376638166/376638166]\n",
            "\n",
            "Dataset Downloaded: yelp_reviews.csv\n",
            "                  user_id  q3  q4  q5  q6    q7  q8  q9  q10  q11    ...     \\\n",
            "0  --1Y03CEKR3WDbBjYnsW7A   1   0   0   0  0.00 NaN NaN  NaN  NaN    ...      \n",
            "1  --2QZsyXGz1OhiD4-0FQLQ   3   0   0   1  1.10 NaN NaN  0.0  0.0    ...      \n",
            "2  --82_AVgRBsLw6Dhy8sEnA   1   0   0   0  0.00 NaN NaN  NaN  NaN    ...      \n",
            "3  --8A9o_NeGyt_3kzlXtSdg   3   0   0   1  1.10 NaN NaN  0.0  0.0    ...      \n",
            "4  --8WbseBk1NjfPiZWjQ-XQ   4   0   0   0  1.39 NaN NaN  NaN  NaN    ...      \n",
            "\n",
            "   q16t  q16u  q16v  q16w      q16x        q16y  q16z  q16aa     q16ab  \\\n",
            "0    no  4.00    14     5  0.000000  213.000000     0      0  0.000000   \n",
            "1    no  1.00    19    14  0.000000   21.833333     1      0  0.333333   \n",
            "2    no  3.00    31     4  0.002275  165.000000     0      0  0.000000   \n",
            "3    no  0.00     8    11  0.002242   61.500000     0      0  0.333333   \n",
            "4    no  0.25    28    11  0.000444  287.500000     0      0  0.000000   \n",
            "\n",
            "      q16ac  \n",
            "0  5.000000  \n",
            "1  4.666667  \n",
            "2  4.000000  \n",
            "3  3.666667  \n",
            "4  2.750000  \n",
            "\n",
            "[5 rows x 43 columns]\n"
          ],
          "name": "stdout"
        }
      ]
    },
    {
      "metadata": {
        "id": "P-zfBDxDImsg",
        "colab_type": "code",
        "outputId": "85fc6300-3c86-4218-ae7a-2062654b8cf7",
        "colab": {
          "base_uri": "https://localhost:8080/",
          "height": 473
        }
      },
      "cell_type": "code",
      "source": [
        "review['value'] = 1\n",
        "#Kernel will crash if increases in sampling size\n",
        "review2 = review[:1000].pivot_table(values='value', index=\"user_id\", columns = \"business_id\", aggfunc = np.sum)\n",
        "review2=review2.fillna(0).astype(int)\n",
        "from sklearn.metrics.pairwise import cosine_similarity\n",
        "#cosine_similarity(review2)\n",
        "review2.transpose().corr().head(10)\n"
      ],
      "execution_count": 0,
      "outputs": [
        {
          "output_type": "execute_result",
          "data": {
            "text/html": [
              "<div>\n",
              "<style scoped>\n",
              "    .dataframe tbody tr th:only-of-type {\n",
              "        vertical-align: middle;\n",
              "    }\n",
              "\n",
              "    .dataframe tbody tr th {\n",
              "        vertical-align: top;\n",
              "    }\n",
              "\n",
              "    .dataframe thead th {\n",
              "        text-align: right;\n",
              "    }\n",
              "</style>\n",
              "<table border=\"1\" class=\"dataframe\">\n",
              "  <thead>\n",
              "    <tr style=\"text-align: right;\">\n",
              "      <th>user_id</th>\n",
              "      <th>-5M2EEPopiUv2Q87zfAo8Q</th>\n",
              "      <th>-MPcjHkh8DhdoITKT6fKXQ</th>\n",
              "      <th>-ZQu-LG24l9I3aa4rP45yQ</th>\n",
              "      <th>-li7Z1cjmu7WG1jbW11CPg</th>\n",
              "      <th>01iRNoZ91eWlCQsQRrTdbw</th>\n",
              "      <th>0LA0Fo_QFcEVlOqClXOqQA</th>\n",
              "      <th>0aN5QPhs-VwK2vusKG0waQ</th>\n",
              "      <th>0iPyPx8pbU6G6uT261BkuQ</th>\n",
              "      <th>0ijwZ1SUFwl4k3Gf2mQqcA</th>\n",
              "      <th>0jEv_84qKNh-ph3uOz8l4g</th>\n",
              "      <th>...</th>\n",
              "      <th>wdmFsfYdvKVh7wJvPF8naQ</th>\n",
              "      <th>wigVZqPYrWbz8ry_OlZADQ</th>\n",
              "      <th>xBUpWC9sf75iVTuFwvgOMg</th>\n",
              "      <th>xLgfQlsULrAUvUugJRGt2A</th>\n",
              "      <th>xf1OFtwwSn26_lazec64yg</th>\n",
              "      <th>ynH_nJGmYBVCYd78T_rMcw</th>\n",
              "      <th>yoBTqFzSCeFXnMiBDs2jag</th>\n",
              "      <th>yr34pWpBvTh3IeDNwCGw9Q</th>\n",
              "      <th>zYcsTGdNyha6REDkQm0yiA</th>\n",
              "      <th>zr9Tr8szQl2jSQ6Kp37Hkw</th>\n",
              "    </tr>\n",
              "    <tr>\n",
              "      <th>user_id</th>\n",
              "      <th></th>\n",
              "      <th></th>\n",
              "      <th></th>\n",
              "      <th></th>\n",
              "      <th></th>\n",
              "      <th></th>\n",
              "      <th></th>\n",
              "      <th></th>\n",
              "      <th></th>\n",
              "      <th></th>\n",
              "      <th></th>\n",
              "      <th></th>\n",
              "      <th></th>\n",
              "      <th></th>\n",
              "      <th></th>\n",
              "      <th></th>\n",
              "      <th></th>\n",
              "      <th></th>\n",
              "      <th></th>\n",
              "      <th></th>\n",
              "      <th></th>\n",
              "    </tr>\n",
              "  </thead>\n",
              "  <tbody>\n",
              "    <tr>\n",
              "      <th>-5M2EEPopiUv2Q87zfAo8Q</th>\n",
              "      <td>1.000000</td>\n",
              "      <td>0.706509</td>\n",
              "      <td>-0.005364</td>\n",
              "      <td>-0.006523</td>\n",
              "      <td>-0.002391</td>\n",
              "      <td>0.706509</td>\n",
              "      <td>0.498308</td>\n",
              "      <td>0.706509</td>\n",
              "      <td>0.706509</td>\n",
              "      <td>0.498308</td>\n",
              "      <td>...</td>\n",
              "      <td>0.498308</td>\n",
              "      <td>0.405829</td>\n",
              "      <td>0.245326</td>\n",
              "      <td>0.350558</td>\n",
              "      <td>-0.004148</td>\n",
              "      <td>0.405829</td>\n",
              "      <td>0.405829</td>\n",
              "      <td>0.498308</td>\n",
              "      <td>0.350558</td>\n",
              "      <td>0.350558</td>\n",
              "    </tr>\n",
              "    <tr>\n",
              "      <th>-MPcjHkh8DhdoITKT6fKXQ</th>\n",
              "      <td>0.706509</td>\n",
              "      <td>1.000000</td>\n",
              "      <td>-0.003790</td>\n",
              "      <td>-0.004609</td>\n",
              "      <td>-0.001689</td>\n",
              "      <td>1.000000</td>\n",
              "      <td>0.706509</td>\n",
              "      <td>1.000000</td>\n",
              "      <td>1.000000</td>\n",
              "      <td>0.706509</td>\n",
              "      <td>...</td>\n",
              "      <td>0.706509</td>\n",
              "      <td>0.576374</td>\n",
              "      <td>0.351457</td>\n",
              "      <td>0.498731</td>\n",
              "      <td>-0.002931</td>\n",
              "      <td>0.576374</td>\n",
              "      <td>0.576374</td>\n",
              "      <td>0.706509</td>\n",
              "      <td>0.498731</td>\n",
              "      <td>0.498731</td>\n",
              "    </tr>\n",
              "    <tr>\n",
              "      <th>-ZQu-LG24l9I3aa4rP45yQ</th>\n",
              "      <td>-0.005364</td>\n",
              "      <td>-0.003790</td>\n",
              "      <td>1.000000</td>\n",
              "      <td>-0.010340</td>\n",
              "      <td>-0.003790</td>\n",
              "      <td>-0.003790</td>\n",
              "      <td>-0.005364</td>\n",
              "      <td>-0.003790</td>\n",
              "      <td>-0.003790</td>\n",
              "      <td>-0.005364</td>\n",
              "      <td>...</td>\n",
              "      <td>-0.005364</td>\n",
              "      <td>-0.006576</td>\n",
              "      <td>-0.010784</td>\n",
              "      <td>-0.007599</td>\n",
              "      <td>-0.006576</td>\n",
              "      <td>-0.006576</td>\n",
              "      <td>-0.006576</td>\n",
              "      <td>-0.005364</td>\n",
              "      <td>-0.007599</td>\n",
              "      <td>-0.007599</td>\n",
              "    </tr>\n",
              "    <tr>\n",
              "      <th>-li7Z1cjmu7WG1jbW11CPg</th>\n",
              "      <td>-0.006523</td>\n",
              "      <td>-0.004609</td>\n",
              "      <td>-0.010340</td>\n",
              "      <td>1.000000</td>\n",
              "      <td>0.299049</td>\n",
              "      <td>-0.004609</td>\n",
              "      <td>-0.006523</td>\n",
              "      <td>-0.004609</td>\n",
              "      <td>-0.004609</td>\n",
              "      <td>-0.006523</td>\n",
              "      <td>...</td>\n",
              "      <td>-0.006523</td>\n",
              "      <td>-0.007996</td>\n",
              "      <td>-0.013113</td>\n",
              "      <td>0.295189</td>\n",
              "      <td>0.167618</td>\n",
              "      <td>-0.007996</td>\n",
              "      <td>-0.007996</td>\n",
              "      <td>-0.006523</td>\n",
              "      <td>-0.009241</td>\n",
              "      <td>-0.009241</td>\n",
              "    </tr>\n",
              "    <tr>\n",
              "      <th>01iRNoZ91eWlCQsQRrTdbw</th>\n",
              "      <td>-0.002391</td>\n",
              "      <td>-0.001689</td>\n",
              "      <td>-0.003790</td>\n",
              "      <td>0.299049</td>\n",
              "      <td>1.000000</td>\n",
              "      <td>-0.001689</td>\n",
              "      <td>-0.002391</td>\n",
              "      <td>-0.001689</td>\n",
              "      <td>-0.001689</td>\n",
              "      <td>-0.002391</td>\n",
              "      <td>...</td>\n",
              "      <td>-0.002391</td>\n",
              "      <td>-0.002931</td>\n",
              "      <td>-0.004806</td>\n",
              "      <td>-0.003387</td>\n",
              "      <td>0.576374</td>\n",
              "      <td>-0.002931</td>\n",
              "      <td>-0.002931</td>\n",
              "      <td>-0.002391</td>\n",
              "      <td>-0.003387</td>\n",
              "      <td>-0.003387</td>\n",
              "    </tr>\n",
              "    <tr>\n",
              "      <th>0LA0Fo_QFcEVlOqClXOqQA</th>\n",
              "      <td>0.706509</td>\n",
              "      <td>1.000000</td>\n",
              "      <td>-0.003790</td>\n",
              "      <td>-0.004609</td>\n",
              "      <td>-0.001689</td>\n",
              "      <td>1.000000</td>\n",
              "      <td>0.706509</td>\n",
              "      <td>1.000000</td>\n",
              "      <td>1.000000</td>\n",
              "      <td>0.706509</td>\n",
              "      <td>...</td>\n",
              "      <td>0.706509</td>\n",
              "      <td>0.576374</td>\n",
              "      <td>0.351457</td>\n",
              "      <td>0.498731</td>\n",
              "      <td>-0.002931</td>\n",
              "      <td>0.576374</td>\n",
              "      <td>0.576374</td>\n",
              "      <td>0.706509</td>\n",
              "      <td>0.498731</td>\n",
              "      <td>0.498731</td>\n",
              "    </tr>\n",
              "    <tr>\n",
              "      <th>0aN5QPhs-VwK2vusKG0waQ</th>\n",
              "      <td>0.498308</td>\n",
              "      <td>0.706509</td>\n",
              "      <td>-0.005364</td>\n",
              "      <td>-0.006523</td>\n",
              "      <td>-0.002391</td>\n",
              "      <td>0.706509</td>\n",
              "      <td>1.000000</td>\n",
              "      <td>0.706509</td>\n",
              "      <td>0.706509</td>\n",
              "      <td>0.498308</td>\n",
              "      <td>...</td>\n",
              "      <td>0.498308</td>\n",
              "      <td>0.405829</td>\n",
              "      <td>0.245326</td>\n",
              "      <td>0.350558</td>\n",
              "      <td>-0.004148</td>\n",
              "      <td>0.405829</td>\n",
              "      <td>0.405829</td>\n",
              "      <td>0.498308</td>\n",
              "      <td>0.350558</td>\n",
              "      <td>0.350558</td>\n",
              "    </tr>\n",
              "    <tr>\n",
              "      <th>0iPyPx8pbU6G6uT261BkuQ</th>\n",
              "      <td>0.706509</td>\n",
              "      <td>1.000000</td>\n",
              "      <td>-0.003790</td>\n",
              "      <td>-0.004609</td>\n",
              "      <td>-0.001689</td>\n",
              "      <td>1.000000</td>\n",
              "      <td>0.706509</td>\n",
              "      <td>1.000000</td>\n",
              "      <td>1.000000</td>\n",
              "      <td>0.706509</td>\n",
              "      <td>...</td>\n",
              "      <td>0.706509</td>\n",
              "      <td>0.576374</td>\n",
              "      <td>0.351457</td>\n",
              "      <td>0.498731</td>\n",
              "      <td>-0.002931</td>\n",
              "      <td>0.576374</td>\n",
              "      <td>0.576374</td>\n",
              "      <td>0.706509</td>\n",
              "      <td>0.498731</td>\n",
              "      <td>0.498731</td>\n",
              "    </tr>\n",
              "    <tr>\n",
              "      <th>0ijwZ1SUFwl4k3Gf2mQqcA</th>\n",
              "      <td>0.706509</td>\n",
              "      <td>1.000000</td>\n",
              "      <td>-0.003790</td>\n",
              "      <td>-0.004609</td>\n",
              "      <td>-0.001689</td>\n",
              "      <td>1.000000</td>\n",
              "      <td>0.706509</td>\n",
              "      <td>1.000000</td>\n",
              "      <td>1.000000</td>\n",
              "      <td>0.706509</td>\n",
              "      <td>...</td>\n",
              "      <td>0.706509</td>\n",
              "      <td>0.576374</td>\n",
              "      <td>0.351457</td>\n",
              "      <td>0.498731</td>\n",
              "      <td>-0.002931</td>\n",
              "      <td>0.576374</td>\n",
              "      <td>0.576374</td>\n",
              "      <td>0.706509</td>\n",
              "      <td>0.498731</td>\n",
              "      <td>0.498731</td>\n",
              "    </tr>\n",
              "    <tr>\n",
              "      <th>0jEv_84qKNh-ph3uOz8l4g</th>\n",
              "      <td>0.498308</td>\n",
              "      <td>0.706509</td>\n",
              "      <td>-0.005364</td>\n",
              "      <td>-0.006523</td>\n",
              "      <td>-0.002391</td>\n",
              "      <td>0.706509</td>\n",
              "      <td>0.498308</td>\n",
              "      <td>0.706509</td>\n",
              "      <td>0.706509</td>\n",
              "      <td>1.000000</td>\n",
              "      <td>...</td>\n",
              "      <td>0.498308</td>\n",
              "      <td>0.405829</td>\n",
              "      <td>0.245326</td>\n",
              "      <td>0.350558</td>\n",
              "      <td>-0.004148</td>\n",
              "      <td>0.405829</td>\n",
              "      <td>0.405829</td>\n",
              "      <td>0.498308</td>\n",
              "      <td>0.350558</td>\n",
              "      <td>0.350558</td>\n",
              "    </tr>\n",
              "  </tbody>\n",
              "</table>\n",
              "<p>10 rows × 244 columns</p>\n",
              "</div>"
            ],
            "text/plain": [
              "user_id                 -5M2EEPopiUv2Q87zfAo8Q  -MPcjHkh8DhdoITKT6fKXQ  \\\n",
              "user_id                                                                  \n",
              "-5M2EEPopiUv2Q87zfAo8Q                1.000000                0.706509   \n",
              "-MPcjHkh8DhdoITKT6fKXQ                0.706509                1.000000   \n",
              "-ZQu-LG24l9I3aa4rP45yQ               -0.005364               -0.003790   \n",
              "-li7Z1cjmu7WG1jbW11CPg               -0.006523               -0.004609   \n",
              "01iRNoZ91eWlCQsQRrTdbw               -0.002391               -0.001689   \n",
              "0LA0Fo_QFcEVlOqClXOqQA                0.706509                1.000000   \n",
              "0aN5QPhs-VwK2vusKG0waQ                0.498308                0.706509   \n",
              "0iPyPx8pbU6G6uT261BkuQ                0.706509                1.000000   \n",
              "0ijwZ1SUFwl4k3Gf2mQqcA                0.706509                1.000000   \n",
              "0jEv_84qKNh-ph3uOz8l4g                0.498308                0.706509   \n",
              "\n",
              "user_id                 -ZQu-LG24l9I3aa4rP45yQ  -li7Z1cjmu7WG1jbW11CPg  \\\n",
              "user_id                                                                  \n",
              "-5M2EEPopiUv2Q87zfAo8Q               -0.005364               -0.006523   \n",
              "-MPcjHkh8DhdoITKT6fKXQ               -0.003790               -0.004609   \n",
              "-ZQu-LG24l9I3aa4rP45yQ                1.000000               -0.010340   \n",
              "-li7Z1cjmu7WG1jbW11CPg               -0.010340                1.000000   \n",
              "01iRNoZ91eWlCQsQRrTdbw               -0.003790                0.299049   \n",
              "0LA0Fo_QFcEVlOqClXOqQA               -0.003790               -0.004609   \n",
              "0aN5QPhs-VwK2vusKG0waQ               -0.005364               -0.006523   \n",
              "0iPyPx8pbU6G6uT261BkuQ               -0.003790               -0.004609   \n",
              "0ijwZ1SUFwl4k3Gf2mQqcA               -0.003790               -0.004609   \n",
              "0jEv_84qKNh-ph3uOz8l4g               -0.005364               -0.006523   \n",
              "\n",
              "user_id                 01iRNoZ91eWlCQsQRrTdbw  0LA0Fo_QFcEVlOqClXOqQA  \\\n",
              "user_id                                                                  \n",
              "-5M2EEPopiUv2Q87zfAo8Q               -0.002391                0.706509   \n",
              "-MPcjHkh8DhdoITKT6fKXQ               -0.001689                1.000000   \n",
              "-ZQu-LG24l9I3aa4rP45yQ               -0.003790               -0.003790   \n",
              "-li7Z1cjmu7WG1jbW11CPg                0.299049               -0.004609   \n",
              "01iRNoZ91eWlCQsQRrTdbw                1.000000               -0.001689   \n",
              "0LA0Fo_QFcEVlOqClXOqQA               -0.001689                1.000000   \n",
              "0aN5QPhs-VwK2vusKG0waQ               -0.002391                0.706509   \n",
              "0iPyPx8pbU6G6uT261BkuQ               -0.001689                1.000000   \n",
              "0ijwZ1SUFwl4k3Gf2mQqcA               -0.001689                1.000000   \n",
              "0jEv_84qKNh-ph3uOz8l4g               -0.002391                0.706509   \n",
              "\n",
              "user_id                 0aN5QPhs-VwK2vusKG0waQ  0iPyPx8pbU6G6uT261BkuQ  \\\n",
              "user_id                                                                  \n",
              "-5M2EEPopiUv2Q87zfAo8Q                0.498308                0.706509   \n",
              "-MPcjHkh8DhdoITKT6fKXQ                0.706509                1.000000   \n",
              "-ZQu-LG24l9I3aa4rP45yQ               -0.005364               -0.003790   \n",
              "-li7Z1cjmu7WG1jbW11CPg               -0.006523               -0.004609   \n",
              "01iRNoZ91eWlCQsQRrTdbw               -0.002391               -0.001689   \n",
              "0LA0Fo_QFcEVlOqClXOqQA                0.706509                1.000000   \n",
              "0aN5QPhs-VwK2vusKG0waQ                1.000000                0.706509   \n",
              "0iPyPx8pbU6G6uT261BkuQ                0.706509                1.000000   \n",
              "0ijwZ1SUFwl4k3Gf2mQqcA                0.706509                1.000000   \n",
              "0jEv_84qKNh-ph3uOz8l4g                0.498308                0.706509   \n",
              "\n",
              "user_id                 0ijwZ1SUFwl4k3Gf2mQqcA  0jEv_84qKNh-ph3uOz8l4g  \\\n",
              "user_id                                                                  \n",
              "-5M2EEPopiUv2Q87zfAo8Q                0.706509                0.498308   \n",
              "-MPcjHkh8DhdoITKT6fKXQ                1.000000                0.706509   \n",
              "-ZQu-LG24l9I3aa4rP45yQ               -0.003790               -0.005364   \n",
              "-li7Z1cjmu7WG1jbW11CPg               -0.004609               -0.006523   \n",
              "01iRNoZ91eWlCQsQRrTdbw               -0.001689               -0.002391   \n",
              "0LA0Fo_QFcEVlOqClXOqQA                1.000000                0.706509   \n",
              "0aN5QPhs-VwK2vusKG0waQ                0.706509                0.498308   \n",
              "0iPyPx8pbU6G6uT261BkuQ                1.000000                0.706509   \n",
              "0ijwZ1SUFwl4k3Gf2mQqcA                1.000000                0.706509   \n",
              "0jEv_84qKNh-ph3uOz8l4g                0.706509                1.000000   \n",
              "\n",
              "user_id                          ...            wdmFsfYdvKVh7wJvPF8naQ  \\\n",
              "user_id                          ...                                     \n",
              "-5M2EEPopiUv2Q87zfAo8Q           ...                          0.498308   \n",
              "-MPcjHkh8DhdoITKT6fKXQ           ...                          0.706509   \n",
              "-ZQu-LG24l9I3aa4rP45yQ           ...                         -0.005364   \n",
              "-li7Z1cjmu7WG1jbW11CPg           ...                         -0.006523   \n",
              "01iRNoZ91eWlCQsQRrTdbw           ...                         -0.002391   \n",
              "0LA0Fo_QFcEVlOqClXOqQA           ...                          0.706509   \n",
              "0aN5QPhs-VwK2vusKG0waQ           ...                          0.498308   \n",
              "0iPyPx8pbU6G6uT261BkuQ           ...                          0.706509   \n",
              "0ijwZ1SUFwl4k3Gf2mQqcA           ...                          0.706509   \n",
              "0jEv_84qKNh-ph3uOz8l4g           ...                          0.498308   \n",
              "\n",
              "user_id                 wigVZqPYrWbz8ry_OlZADQ  xBUpWC9sf75iVTuFwvgOMg  \\\n",
              "user_id                                                                  \n",
              "-5M2EEPopiUv2Q87zfAo8Q                0.405829                0.245326   \n",
              "-MPcjHkh8DhdoITKT6fKXQ                0.576374                0.351457   \n",
              "-ZQu-LG24l9I3aa4rP45yQ               -0.006576               -0.010784   \n",
              "-li7Z1cjmu7WG1jbW11CPg               -0.007996               -0.013113   \n",
              "01iRNoZ91eWlCQsQRrTdbw               -0.002931               -0.004806   \n",
              "0LA0Fo_QFcEVlOqClXOqQA                0.576374                0.351457   \n",
              "0aN5QPhs-VwK2vusKG0waQ                0.405829                0.245326   \n",
              "0iPyPx8pbU6G6uT261BkuQ                0.576374                0.351457   \n",
              "0ijwZ1SUFwl4k3Gf2mQqcA                0.576374                0.351457   \n",
              "0jEv_84qKNh-ph3uOz8l4g                0.405829                0.245326   \n",
              "\n",
              "user_id                 xLgfQlsULrAUvUugJRGt2A  xf1OFtwwSn26_lazec64yg  \\\n",
              "user_id                                                                  \n",
              "-5M2EEPopiUv2Q87zfAo8Q                0.350558               -0.004148   \n",
              "-MPcjHkh8DhdoITKT6fKXQ                0.498731               -0.002931   \n",
              "-ZQu-LG24l9I3aa4rP45yQ               -0.007599               -0.006576   \n",
              "-li7Z1cjmu7WG1jbW11CPg                0.295189                0.167618   \n",
              "01iRNoZ91eWlCQsQRrTdbw               -0.003387                0.576374   \n",
              "0LA0Fo_QFcEVlOqClXOqQA                0.498731               -0.002931   \n",
              "0aN5QPhs-VwK2vusKG0waQ                0.350558               -0.004148   \n",
              "0iPyPx8pbU6G6uT261BkuQ                0.498731               -0.002931   \n",
              "0ijwZ1SUFwl4k3Gf2mQqcA                0.498731               -0.002931   \n",
              "0jEv_84qKNh-ph3uOz8l4g                0.350558               -0.004148   \n",
              "\n",
              "user_id                 ynH_nJGmYBVCYd78T_rMcw  yoBTqFzSCeFXnMiBDs2jag  \\\n",
              "user_id                                                                  \n",
              "-5M2EEPopiUv2Q87zfAo8Q                0.405829                0.405829   \n",
              "-MPcjHkh8DhdoITKT6fKXQ                0.576374                0.576374   \n",
              "-ZQu-LG24l9I3aa4rP45yQ               -0.006576               -0.006576   \n",
              "-li7Z1cjmu7WG1jbW11CPg               -0.007996               -0.007996   \n",
              "01iRNoZ91eWlCQsQRrTdbw               -0.002931               -0.002931   \n",
              "0LA0Fo_QFcEVlOqClXOqQA                0.576374                0.576374   \n",
              "0aN5QPhs-VwK2vusKG0waQ                0.405829                0.405829   \n",
              "0iPyPx8pbU6G6uT261BkuQ                0.576374                0.576374   \n",
              "0ijwZ1SUFwl4k3Gf2mQqcA                0.576374                0.576374   \n",
              "0jEv_84qKNh-ph3uOz8l4g                0.405829                0.405829   \n",
              "\n",
              "user_id                 yr34pWpBvTh3IeDNwCGw9Q  zYcsTGdNyha6REDkQm0yiA  \\\n",
              "user_id                                                                  \n",
              "-5M2EEPopiUv2Q87zfAo8Q                0.498308                0.350558   \n",
              "-MPcjHkh8DhdoITKT6fKXQ                0.706509                0.498731   \n",
              "-ZQu-LG24l9I3aa4rP45yQ               -0.005364               -0.007599   \n",
              "-li7Z1cjmu7WG1jbW11CPg               -0.006523               -0.009241   \n",
              "01iRNoZ91eWlCQsQRrTdbw               -0.002391               -0.003387   \n",
              "0LA0Fo_QFcEVlOqClXOqQA                0.706509                0.498731   \n",
              "0aN5QPhs-VwK2vusKG0waQ                0.498308                0.350558   \n",
              "0iPyPx8pbU6G6uT261BkuQ                0.706509                0.498731   \n",
              "0ijwZ1SUFwl4k3Gf2mQqcA                0.706509                0.498731   \n",
              "0jEv_84qKNh-ph3uOz8l4g                0.498308                0.350558   \n",
              "\n",
              "user_id                 zr9Tr8szQl2jSQ6Kp37Hkw  \n",
              "user_id                                         \n",
              "-5M2EEPopiUv2Q87zfAo8Q                0.350558  \n",
              "-MPcjHkh8DhdoITKT6fKXQ                0.498731  \n",
              "-ZQu-LG24l9I3aa4rP45yQ               -0.007599  \n",
              "-li7Z1cjmu7WG1jbW11CPg               -0.009241  \n",
              "01iRNoZ91eWlCQsQRrTdbw               -0.003387  \n",
              "0LA0Fo_QFcEVlOqClXOqQA                0.498731  \n",
              "0aN5QPhs-VwK2vusKG0waQ                0.350558  \n",
              "0iPyPx8pbU6G6uT261BkuQ                0.498731  \n",
              "0ijwZ1SUFwl4k3Gf2mQqcA                0.498731  \n",
              "0jEv_84qKNh-ph3uOz8l4g                0.350558  \n",
              "\n",
              "[10 rows x 244 columns]"
            ]
          },
          "metadata": {
            "tags": []
          },
          "execution_count": 53
        }
      ]
    },
    {
      "metadata": {
        "id": "6eUxq9lpR30n",
        "colab_type": "text"
      },
      "cell_type": "markdown",
      "source": [
        "## Bonus question #2 (+10%) - Do you like Boba?\n",
        "\n",
        "    A. YEAH\n",
        "    B. NO\n",
        "    B. HELL YEAH\n",
        " \n",
        " ### **Justify your answer. Put extra effort into your justification if you choose 'B'.**\n",
        "    \n"
      ]
    },
    {
      "metadata": {
        "id": "yj5Qxv3qTe3k",
        "colab_type": "text"
      },
      "cell_type": "markdown",
      "source": [
        "### ANSWER: A,  I love Boba but Boba makes you fat so need to limit how muchI can drink.###"
      ]
    }
  ]
}